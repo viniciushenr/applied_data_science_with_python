{
 "cells": [
  {
   "cell_type": "markdown",
   "metadata": {},
   "source": [
    "### Course Introduction to Data Science in Python\n",
    "### Assignment3\n",
    "### Vinicius Henrique | Production engineering"
   ]
  },
  {
   "cell_type": "markdown",
   "metadata": {},
   "source": [
    "---\n",
    "\n",
    "_You are currently looking at **version 1.5** of this notebook. To download notebooks and datafiles, as well as get help on Jupyter notebooks in the Coursera platform, visit the [Jupyter Notebook FAQ](https://www.coursera.org/learn/python-data-analysis/resources/0dhYG) course resource._\n",
    "\n",
    "---"
   ]
  },
  {
   "cell_type": "markdown",
   "metadata": {},
   "source": [
    "# Assignment 3 - More Pandas\n",
    "This assignment requires more individual learning then the last one did - you are encouraged to check out the [pandas documentation](http://pandas.pydata.org/pandas-docs/stable/) to find functions or methods you might not have used yet, or ask questions on [Stack Overflow](http://stackoverflow.com/) and tag them as pandas and python related. And of course, the discussion forums are open for interaction with your peers and the course staff."
   ]
  },
  {
   "cell_type": "markdown",
   "metadata": {},
   "source": [
    "### Question 1 (20%)\n",
    "Load the energy data from the file `Energy Indicators.xls`, which is a list of indicators of [energy supply and renewable electricity production](Energy%20Indicators.xls) from the [United Nations](http://unstats.un.org/unsd/environment/excel_file_tables/2013/Energy%20Indicators.xls) for the year 2013, and should be put into a DataFrame with the variable name of **energy**.\n",
    "\n",
    "Keep in mind that this is an Excel file, and not a comma separated values file. Also, make sure to exclude the footer and header information from the datafile. The first two columns are unneccessary, so you should get rid of them, and you should change the column labels so that the columns are:\n",
    "\n",
    "`['Country', 'Energy Supply', 'Energy Supply per Capita', '% Renewable']`\n",
    "\n",
    "Convert `Energy Supply` to gigajoules (there are 1,000,000 gigajoules in a petajoule). For all countries which have missing data (e.g. data with \"...\") make sure this is reflected as `np.NaN` values.\n",
    "\n",
    "Rename the following list of countries (for use in later questions):\n",
    "\n",
    "```\"Republic of Korea\": \"South Korea\",\n",
    "\"United States of America\": \"United States\",\n",
    "\"United Kingdom of Great Britain and Northern Ireland\": \"United Kingdom\",\n",
    "\"China, Hong Kong Special Administrative Region\": \"Hong Kong\"```\n",
    "\n",
    "There are also several countries with numbers and/or parenthesis in their name. Be sure to remove these, \n",
    "\n",
    "e.g. \n",
    "\n",
    "`'Bolivia (Plurinational State of)'` should be `'Bolivia'`, \n",
    "\n",
    "`'Switzerland17'` should be `'Switzerland'`.\n",
    "\n",
    "<br>\n",
    "\n",
    "Next, load the GDP data from the file `world_bank.csv`, which is a csv containing countries' GDP from 1960 to 2015 from [World Bank](http://data.worldbank.org/indicator/NY.GDP.MKTP.CD). Call this DataFrame **GDP**. \n",
    "\n",
    "Make sure to skip the header, and rename the following list of countries:\n",
    "\n",
    "```\"Korea, Rep.\": \"South Korea\", \n",
    "\"Iran, Islamic Rep.\": \"Iran\",\n",
    "\"Hong Kong SAR, China\": \"Hong Kong\"```\n",
    "\n",
    "<br>\n",
    "\n",
    "Finally, load the [Sciamgo Journal and Country Rank data for Energy Engineering and Power Technology](http://www.scimagojr.com/countryrank.php?category=2102) from the file `scimagojr-3.xlsx`, which ranks countries based on their journal contributions in the aforementioned area. Call this DataFrame **ScimEn**.\n",
    "\n",
    "Join the three datasets: GDP, Energy, and ScimEn into a new dataset (using the intersection of country names). Use only the last 10 years (2006-2015) of GDP data and only the top 15 countries by Scimagojr 'Rank' (Rank 1 through 15). \n",
    "\n",
    "The index of this DataFrame should be the name of the country, and the columns should be ['Rank', 'Documents', 'Citable documents', 'Citations', 'Self-citations',\n",
    "       'Citations per document', 'H index', 'Energy Supply',\n",
    "       'Energy Supply per Capita', '% Renewable', '2006', '2007', '2008',\n",
    "       '2009', '2010', '2011', '2012', '2013', '2014', '2015'].\n",
    "\n",
    "*This function should return a DataFrame with 20 columns and 15 entries.*"
   ]
  },
  {
   "cell_type": "code",
   "execution_count": 50,
   "metadata": {
    "collapsed": true
   },
   "outputs": [],
   "source": [
    "import pandas as pd\n",
    "import numpy as np\n",
    "energy = pd.read_excel('Energy Indicators.xls')\n",
    "GDP = pd.read_csv('world_bank.csv',header=4)\n",
    "ScimEn = pd.read_excel('scimagojr-3.xlsx')\n",
    "\n",
    "energy.drop(['Unnamed: 0','Unnamed: 1'],axis=1,inplace=True)\n",
    "energy.rename(columns={'Environmental Indicators: Energy':'Country', 'Unnamed: 3':'Energy Supply', 'Unnamed: 4':'Energy Supply per Capita', 'Unnamed: 5':'% Renewable'},inplace=True)\n",
    "energy['Country'].replace('...',np.NaN,inplace=True)\n",
    "energy['Energy Supply'].replace('...',np.NaN,inplace=True)\n",
    "energy['Energy Supply per Capita'].replace('...',np.NaN,inplace=True)\n",
    "energy['% Renewable'].replace('...',np.NaN,inplace=True)\n",
    "energy['Country'].replace({\"Republic of Korea\": \"South Korea\",\n",
    "\"United States of America\": \"United States\",\n",
    "\"United Kingdom of Great Britain and Northern Ireland\": \"United Kingdom\",\n",
    "\"China, Hong Kong Special Administrative Region\": \"Hong Kong\"},inplace=True)\n",
    "energy['Energy Supply']=energy['Energy Supply']*1000000\n",
    "energy['Country'] = energy['Country'].str.extract('(^[a-zA-Z\\s]+)', expand=False).str.strip()\n",
    "energy=energy.reset_index()\n",
    "energy.head()\n",
    "\n",
    "GDP=GDP.replace(\"Korea, Rep.\", \"South Korea\",regex=False)\n",
    "GDP=GDP.replace(\"Iran, Islamic Rep.\",\"Iran\")\n",
    "GDP=GDP.replace(\"Hong Kong SAR, China\",\"Hong Kong\",regex=False)\n",
    "GDP=GDP[['Country Name','2006', '2007', '2008', '2009', '2010', '2011', '2012', '2013', '2014', '2015']]\n",
    "GDP.columns=['Country','2006', '2007', '2008', '2009', '2010', '2011', '2012', '2013', '2014', '2015']\n",
    "GDP.head()\n",
    "\n",
    "ScimEn = ScimEn.head(15)\n",
    "var1=pd.merge(energy,GDP,on='Country')\n",
    "var1=pd.merge(var1,ScimEn,on='Country')\n",
    "var1.sort_values(by=['Rank'], inplace = True)\n",
    "res=var1.set_index('Country', inplace=False)\n",
    "res.drop('index',axis=1,inplace=True)\n",
    "res.head(15)"
   ]
  },
  {
   "cell_type": "code",
   "execution_count": 2,
   "metadata": {
    "collapsed": true,
    "umich_part_id": "009",
    "umich_partlist_id": "003"
   },
   "outputs": [],
   "source": [
    "def answer_one():\n",
    "\n",
    "    import pandas as pd\n",
    "    import numpy as np\n",
    "\n",
    "    energy=pd.read_excel('Energy Indicators.xls',skiprows=9)\n",
    "    energy=energy.drop(['Unnamed: 0','Unnamed: 1'],axis=1)\n",
    "    energy=energy.drop([0],axis=0)\n",
    "    energy=energy.rename(columns={'Country':'Country','Energy Supply':'Energy Supply','Energy Supply per capita':'Energy Supply per Capita','Renewable Electricity Production':'% Renewable'})\n",
    "    energy['Energy Supply'] *=1000000\n",
    "    energy=energy.replace('...',np.nan)\n",
    "\n",
    "    energy['Country']=energy['Country'].str.replace(r\"( \\(.*\\))\",\"\")\n",
    "    energy['Country']=energy['Country'].str.replace(r\"([0-9])\",\"\")\n",
    "\n",
    "    energy=energy.replace('Republic of Korea','South Korea')                   #Method1\n",
    "    energy.replace('United States of America','United States',inplace=True)    #Method2\n",
    "    energy['Country'] = energy['Country'].replace({'China, Hong Kong Special Administrative Region':'Hong Kong','United Kingdom of Great Britain and Northern Ireland':'United Kingdom','Iran (Islamic Republic of)':'Iran'}) #Method3\n",
    "\n",
    "    cmp=energy['Country']\n",
    "    energy=energy[energy['Country']== cmp.values]\n",
    "    energy.reset_index()\n",
    "\n",
    "    ##############################################################################################\n",
    "    GDP=pd.read_csv('world_bank.csv',skiprows=4)\n",
    "    GDP=GDP.replace('Korea, Rep.','South Korea')\n",
    "    GDP=GDP.replace('Iran, Islamic Rep.','Iran')\n",
    "    GDP=GDP.replace('Hong Kong SAR, China','Hong Kong')\n",
    "\n",
    "    GDP [ GDP['Country Name']=='Hong Kong' ]\n",
    "    GDP=GDP[['Country Name','2006','2007','2008','2009','2010','2011','2012','2013','2014','2015']]\n",
    "    GDP=GDP.rename(columns={'Country Name':'Country'})\n",
    "    ##############################################################################################\n",
    "\n",
    "    ScimEn=pd.read_excel('scimagojr-3.xlsx')\n",
    "\n",
    "    ##############################################################################################\n",
    "\n",
    "    merge_1=pd.merge(energy,ScimEn,how='inner',left_on='Country',right_on='Country')\n",
    "    final_merge=pd.merge(merge_1,GDP,on='Country')\n",
    "    final_merge=final_merge[['Country','Rank', 'Documents', 'Citable documents', 'Citations', 'Self-citations', 'Citations per document', 'H index', 'Energy Supply', 'Energy Supply per Capita', '% Renewable', '2006', '2007', '2008', '2009', '2010', '2011', '2012', '2013', '2014', '2015']]\n",
    "    final_merge=final_merge.set_index('Country')\n",
    "    final_merge = final_merge.nsmallest(15,'Rank')\n",
    "\n",
    "\n",
    "    return final_merge"
   ]
  },
  {
   "cell_type": "markdown",
   "metadata": {},
   "source": [
    "### Question 2 (6.6%)\n",
    "The previous question joined three datasets then reduced this to just the top 15 entries. When you joined the datasets, but before you reduced this to the top 15 items, how many entries did you lose?\n",
    "\n",
    "*This function should return a single number.*"
   ]
  },
  {
   "cell_type": "code",
   "execution_count": 63,
   "metadata": {},
   "outputs": [
    {
     "data": {
      "text/html": [
       "<svg width=\"800\" height=\"300\">\n",
       "  <circle cx=\"150\" cy=\"180\" r=\"80\" fill-opacity=\"0.2\" stroke=\"black\" stroke-width=\"2\" fill=\"blue\" />\n",
       "  <circle cx=\"200\" cy=\"100\" r=\"80\" fill-opacity=\"0.2\" stroke=\"black\" stroke-width=\"2\" fill=\"red\" />\n",
       "  <circle cx=\"100\" cy=\"100\" r=\"80\" fill-opacity=\"0.2\" stroke=\"black\" stroke-width=\"2\" fill=\"green\" />\n",
       "  <line x1=\"150\" y1=\"125\" x2=\"300\" y2=\"150\" stroke=\"black\" stroke-width=\"2\" fill=\"black\" stroke-dasharray=\"5,3\"/>\n",
       "  <text  x=\"300\" y=\"165\" font-family=\"Verdana\" font-size=\"35\">Everything but this!</text>\n",
       "</svg>"
      ],
      "text/plain": [
       "<IPython.core.display.HTML object>"
      ]
     },
     "metadata": {},
     "output_type": "display_data"
    }
   ],
   "source": [
    "%%HTML\n",
    "<svg width=\"800\" height=\"300\">\n",
    "  <circle cx=\"150\" cy=\"180\" r=\"80\" fill-opacity=\"0.2\" stroke=\"black\" stroke-width=\"2\" fill=\"blue\" />\n",
    "  <circle cx=\"200\" cy=\"100\" r=\"80\" fill-opacity=\"0.2\" stroke=\"black\" stroke-width=\"2\" fill=\"red\" />\n",
    "  <circle cx=\"100\" cy=\"100\" r=\"80\" fill-opacity=\"0.2\" stroke=\"black\" stroke-width=\"2\" fill=\"green\" />\n",
    "  <line x1=\"150\" y1=\"125\" x2=\"300\" y2=\"150\" stroke=\"black\" stroke-width=\"2\" fill=\"black\" stroke-dasharray=\"5,3\"/>\n",
    "  <text  x=\"300\" y=\"165\" font-family=\"Verdana\" font-size=\"35\">Everything but this!</text>\n",
    "</svg>"
   ]
  },
  {
   "cell_type": "code",
   "execution_count": 73,
   "metadata": {
    "umich_part_id": "010",
    "umich_partlist_id": "003"
   },
   "outputs": [
    {
     "name": "stdout",
     "output_type": "stream",
     "text": [
      "148\n"
     ]
    }
   ],
   "source": [
    "def answer_two():\n",
    "\n",
    "    import pandas as pd\n",
    "    import numpy as np\n",
    "\n",
    "    energy=pd.read_excel('Energy Indicators.xls',skiprows=9)\n",
    "    energy=energy.drop(['Unnamed: 0','Unnamed: 1'],axis=1)\n",
    "    energy=energy.drop([0],axis=0)\n",
    "    energy=energy.rename(columns={'Country':'Country','Energy Supply':'Energy Supply','Energy Supply per capita':'Energy Supply per Capita','Renewable Electricity Production':'% Renewable'})\n",
    "    energy['Energy Supply'] *=1000000\n",
    "    energy=energy.replace('...',np.nan)\n",
    "\n",
    "    energy['Country']=energy['Country'].str.replace(r\"( \\(.*\\))\",\"\")\n",
    "    energy['Country']=energy['Country'].str.replace(r\"([0-9])\",\"\")\n",
    "\n",
    "    energy=energy.replace('Republic of Korea','South Korea')                   #Method1\n",
    "    energy.replace('United States of America','United States',inplace=True)    #Method2\n",
    "    energy['Country'] = energy['Country'].replace({'China, Hong Kong Special Administrative Region':'Hong Kong','United Kingdom of Great Britain and Northern Ireland':'United Kingdom','Iran (Islamic Republic of)':'Iran'}) #Method3\n",
    "\n",
    "    cmp=energy['Country']\n",
    "    energy=energy[energy['Country']== cmp.values]\n",
    "    energy.reset_index()\n",
    "\n",
    "    ##############################################################################################\n",
    "    GDP=pd.read_csv('world_bank.csv',skiprows=4)\n",
    "    GDP=GDP.replace('Korea, Rep.','South Korea')\n",
    "    GDP=GDP.replace('Iran, Islamic Rep.','Iran')\n",
    "    GDP=GDP.replace('Hong Kong SAR, China','Hong Kong')\n",
    "\n",
    "    GDP [ GDP['Country Name']=='Hong Kong' ]\n",
    "    GDP=GDP[['Country Name','2006','2007','2008','2009','2010','2011','2012','2013','2014','2015']]\n",
    "    GDP=GDP.rename(columns={'Country Name':'Country'})\n",
    "    ##############################################################################################\n",
    "\n",
    "    ScimEn=pd.read_excel('scimagojr-3.xlsx')\n",
    "\n",
    "    ##############################################################################################\n",
    "\n",
    "    merge_1=pd.merge(energy,ScimEn,how='inner',left_on='Country',right_on='Country')\n",
    "    final_merge=pd.merge(merge_1,GDP,on='Country')\n",
    "    final_merge=final_merge[['Country','Rank', 'Documents', 'Citable documents', 'Citations', 'Self-citations', 'Citations per document', 'H index', 'Energy Supply', 'Energy Supply per Capita', '% Renewable', '2006', '2007', '2008', '2009', '2010', '2011', '2012', '2013', '2014', '2015']]\n",
    "    final_merge=final_merge.set_index('Country')\n",
    "    #final_merge = final_merge.nsmallest(15,'Rank')\n",
    "    final_merge = final_merge.shape[0] - 15\n",
    "\n",
    "    return final_merge"
   ]
  },
  {
   "cell_type": "markdown",
   "metadata": {},
   "source": [
    "## Answer the following questions in the context of only the top 15 countries by Scimagojr Rank (aka the DataFrame returned by `answer_one()`)"
   ]
  },
  {
   "cell_type": "markdown",
   "metadata": {},
   "source": [
    "### Question 3 (6.6%)\n",
    "What is the average GDP over the last 10 years for each country? (exclude missing values from this calculation.)\n",
    "\n",
    "*This function should return a Series named `avgGDP` with 15 countries and their average GDP sorted in descending order.*"
   ]
  },
  {
   "cell_type": "code",
   "execution_count": 8,
   "metadata": {
    "scrolled": true,
    "umich_part_id": "011",
    "umich_partlist_id": "003"
   },
   "outputs": [
    {
     "name": "stdout",
     "output_type": "stream",
     "text": [
      "Canada\n"
     ]
    }
   ],
   "source": [
    "def answer_three():\n",
    "    import numpy as np\n",
    "    df = answer_one()\n",
    "    df_copy = df.copy()\n",
    "    df_copy['avgGDP'] = df_copy[['2006','2007','2008','2009','2010','2011','2012','2013','2014','2015']].mean(axis=1)\n",
    "    \n",
    "    return df_copy['avgGDP'].sort_values(ascending=False)"
   ]
  },
  {
   "cell_type": "markdown",
   "metadata": {},
   "source": [
    "### Question 4 (6.6%)\n",
    "By how much had the GDP changed over the 10 year span for the country with the 6th largest average GDP?\n",
    "\n",
    "*This function should return a single number.*"
   ]
  },
  {
   "cell_type": "code",
   "execution_count": 20,
   "metadata": {
    "scrolled": true,
    "umich_part_id": "012",
    "umich_partlist_id": "003"
   },
   "outputs": [
    {
     "name": "stdout",
     "output_type": "stream",
     "text": [
      "Rank                                  6\n",
      "Documents                         17899\n",
      "Citable documents                 17620\n",
      "Citations                        215003\n",
      "Self-citations                    40930\n",
      "Citations per document            12.01\n",
      "H index                             149\n",
      "Energy Supply               10431000000\n",
      "Energy Supply per Capita            296\n",
      "% Renewable                     61.9454\n",
      "2006                        1.56447e+12\n",
      "2007                        1.59674e+12\n",
      "2008                        1.61271e+12\n",
      "2009                        1.56514e+12\n",
      "2010                        1.61341e+12\n",
      "2011                        1.66409e+12\n",
      "2012                        1.69313e+12\n",
      "2013                        1.73069e+12\n",
      "2014                        1.77349e+12\n",
      "2015                        1.79261e+12\n",
      "Name: Canada, dtype: object\n",
      "228139911279.0\n"
     ]
    }
   ],
   "source": [
    "def answer_four():\n",
    "    import numpy as np\n",
    "    df = answer_one()\n",
    "    years_to_keep = np.arange(2006, 2016).astype(str)\n",
    "    df['avgGDP'] = df[years_to_keep].mean(axis=1)\n",
    "    df = df.sort_values(['avgGDP'], ascending=False)\n",
    "    df['deltaGDP'] = df['2015'] - df['2006']\n",
    "    df = df.reset_index()\n",
    "    return df.loc[5, 'deltaGDP']"
   ]
  },
  {
   "cell_type": "markdown",
   "metadata": {},
   "source": [
    "### Question 5 (6.6%)\n",
    "What is the mean `Energy Supply per Capita`?\n",
    "\n",
    "*This function should return a single number.*"
   ]
  },
  {
   "cell_type": "code",
   "execution_count": 41,
   "metadata": {
    "umich_part_id": "013",
    "umich_partlist_id": "003"
   },
   "outputs": [
    {
     "data": {
      "text/plain": [
       "float"
      ]
     },
     "execution_count": 41,
     "metadata": {},
     "output_type": "execute_result"
    }
   ],
   "source": [
    "def answer_five():\n",
    "    import numpy as np\n",
    "    df = answer_one()\n",
    "    result = df['Energy Supply per Capita'].mean(axis=0)\n",
    "    return float(result)"
   ]
  },
  {
   "cell_type": "markdown",
   "metadata": {},
   "source": [
    "### Question 6 (6.6%)\n",
    "What country has the maximum % Renewable and what is the percentage?\n",
    "\n",
    "*This function should return a tuple with the name of the country and the percentage.*"
   ]
  },
  {
   "cell_type": "code",
   "execution_count": null,
   "metadata": {
    "collapsed": true,
    "umich_part_id": "014",
    "umich_partlist_id": "003"
   },
   "outputs": [],
   "source": [
    "def answer_six():\n",
    "    df = answer_one()\n",
    "    var1 = df['% Renewable'].sort_values(ascending=False).index[0]\n",
    "    var2 = df.loc[df['% Renewable'].sort_values(ascending=False).index[0]]['% Renewable']\n",
    "    return (var1,var2)"
   ]
  },
  {
   "cell_type": "markdown",
   "metadata": {},
   "source": [
    "### Question 7 (6.6%)\n",
    "Create a new column that is the ratio of Self-Citations to Total Citations. \n",
    "What is the maximum value for this new column, and what country has the highest ratio?\n",
    "\n",
    "*This function should return a tuple with the name of the country and the ratio.*"
   ]
  },
  {
   "cell_type": "code",
   "execution_count": null,
   "metadata": {
    "collapsed": true,
    "umich_part_id": "015",
    "umich_partlist_id": "003"
   },
   "outputs": [],
   "source": [
    "def answer_seven():\n",
    "    df = answer_one()\n",
    "    df['new'] = df['Self-citations'] / df['Citations']\n",
    "    var1 = df['new'].sort_values(ascending=False).index[0]\n",
    "    var2 = df.loc[df['new'].sort_values(ascending=False).index[0]]['new']\n",
    "    return (var1,var2)"
   ]
  },
  {
   "cell_type": "markdown",
   "metadata": {},
   "source": [
    "### Question 8 (6.6%)\n",
    "\n",
    "Create a column that estimates the population using Energy Supply and Energy Supply per capita. \n",
    "What is the third most populous country according to this estimate?\n",
    "\n",
    "*This function should return a single string value.*"
   ]
  },
  {
   "cell_type": "code",
   "execution_count": null,
   "metadata": {
    "collapsed": true,
    "umich_part_id": "016",
    "umich_partlist_id": "003"
   },
   "outputs": [],
   "source": [
    "def answer_eight():\n",
    "    df = answer_one()\n",
    "    df['new'] = df['Energy Supply'] / df['Energy Supply per Capita']\n",
    "    var1 = df['new'].sort_values(ascending=False).index[2]\n",
    "    return var1"
   ]
  },
  {
   "cell_type": "markdown",
   "metadata": {},
   "source": [
    "### Question 9 (6.6%)\n",
    "Create a column that estimates the number of citable documents per person. \n",
    "What is the correlation between the number of citable documents per capita and the energy supply per capita? Use the `.corr()` method, (Pearson's correlation).\n",
    "\n",
    "*This function should return a single number.*\n",
    "\n",
    "*(Optional: Use the built-in function `plot9()` to visualize the relationship between Energy Supply per Capita vs. Citable docs per Capita)*"
   ]
  },
  {
   "cell_type": "code",
   "execution_count": null,
   "metadata": {
    "collapsed": true,
    "umich_part_id": "017",
    "umich_partlist_id": "003"
   },
   "outputs": [],
   "source": [
    "def answer_nine():\n",
    "    Top15 = answer_one()\n",
    "    return \"ANSWER\""
   ]
  },
  {
   "cell_type": "code",
   "execution_count": 60,
   "metadata": {},
   "outputs": [
    {
     "data": {
      "image/png": "[encoded data removed]",
      "text/plain": [
       "<matplotlib.figure.Figure at 0x7f1042d10630>"
      ]
     },
     "metadata": {},
     "output_type": "display_data"
    }
   ],
   "source": [
    "#def plot9():\n",
    "#    import matplotlib as plt\n",
    "#    %matplotlib inline\n",
    "#    \n",
    "#    Top15 = answer_one()\n",
    "#    Top15['PopEst'] = Top15['Energy Supply'] / Top15['Energy Supply per Capita']\n",
    "#    Top15['Citable docs per Capita'] = Top15['Citable documents'] / Top15['PopEst']\n",
    "#    Top15.plot(x='Citable docs per Capita', y='Energy Supply per Capita', kind='scatter', xlim=[0, 0.0006])\n",
    "#plot9()"
   ]
  },
  {
   "cell_type": "code",
   "execution_count": null,
   "metadata": {
    "collapsed": true
   },
   "outputs": [],
   "source": [
    "#plot9() # Be sure to comment out plot9() before submitting the assignment!"
   ]
  },
  {
   "cell_type": "markdown",
   "metadata": {},
   "source": [
    "### Question 10 (6.6%)\n",
    "Create a new column with a 1 if the country's % Renewable value is at or above the median for all countries in the top 15, and a 0 if the country's % Renewable value is below the median.\n",
    "\n",
    "*This function should return a series named `HighRenew` whose index is the country name sorted in ascending order of rank.*"
   ]
  },
  {
   "cell_type": "code",
   "execution_count": null,
   "metadata": {
    "collapsed": true,
    "umich_part_id": "018",
    "umich_partlist_id": "003"
   },
   "outputs": [],
   "source": [
    "def answer_ten():\n",
    "    df = answer_one()\n",
    "    df['median % Renewable'] = df['% Renewable'].median()\n",
    "    df['HighRenew'] = df['% Renewable'] >= df['median % Renewable']\n",
    "    df['HighRenew'] = df['HighRenew'].replace({True:'1',False:'0'})\n",
    "    return df['HighRenew'].sort_values(ascending=False)"
   ]
  },
  {
   "cell_type": "markdown",
   "metadata": {},
   "source": [
    "### Question 11 (6.6%)\n",
    "Use the following dictionary to group the Countries by Continent, then create a dateframe that displays the sample size (the number of countries in each continent bin), and the sum, mean, and std deviation for the estimated population of each country.\n",
    "\n",
    "```python\n",
    "ContinentDict  = {'China':'Asia', \n",
    "                  'United States':'North America', \n",
    "                  'Japan':'Asia', \n",
    "                  'United Kingdom':'Europe', \n",
    "                  'Russian Federation':'Europe', \n",
    "                  'Canada':'North America', \n",
    "                  'Germany':'Europe', \n",
    "                  'India':'Asia',\n",
    "                  'France':'Europe', \n",
    "                  'South Korea':'Asia', \n",
    "                  'Italy':'Europe', \n",
    "                  'Spain':'Europe', \n",
    "                  'Iran':'Asia',\n",
    "                  'Australia':'Australia', \n",
    "                  'Brazil':'South America'}\n",
    "```\n",
    "\n",
    "*This function should return a DataFrame with index named Continent `['Asia', 'Australia', 'Europe', 'North America', 'South America']` and columns `['size', 'sum', 'mean', 'std']`*"
   ]
  },
  {
   "cell_type": "code",
   "execution_count": 38,
   "metadata": {},
   "outputs": [
    {
     "data": {
      "text/html": [
       "<div>\n",
       "<table border=\"1\" class=\"dataframe\">\n",
       "  <thead>\n",
       "    <tr style=\"text-align: right;\">\n",
       "      <th></th>\n",
       "      <th>mean</th>\n",
       "      <th>size</th>\n",
       "      <th>std</th>\n",
       "      <th>sum</th>\n",
       "    </tr>\n",
       "  </thead>\n",
       "  <tbody>\n",
       "    <tr>\n",
       "      <th>Asia</th>\n",
       "      <td>5.797333e+08</td>\n",
       "      <td>5</td>\n",
       "      <td>6.074036e+08</td>\n",
       "      <td>2.898666e+09</td>\n",
       "    </tr>\n",
       "    <tr>\n",
       "      <th>Australia</th>\n",
       "      <td>2.331602e+07</td>\n",
       "      <td>1</td>\n",
       "      <td>0.000000e+00</td>\n",
       "      <td>2.331602e+07</td>\n",
       "    </tr>\n",
       "    <tr>\n",
       "      <th>Europe</th>\n",
       "      <td>7.632161e+07</td>\n",
       "      <td>6</td>\n",
       "      <td>3.162885e+07</td>\n",
       "      <td>4.579297e+08</td>\n",
       "    </tr>\n",
       "    <tr>\n",
       "      <th>North America</th>\n",
       "      <td>1.764276e+08</td>\n",
       "      <td>2</td>\n",
       "      <td>1.411878e+08</td>\n",
       "      <td>3.528552e+08</td>\n",
       "    </tr>\n",
       "    <tr>\n",
       "      <th>South America</th>\n",
       "      <td>2.059153e+08</td>\n",
       "      <td>1</td>\n",
       "      <td>0.000000e+00</td>\n",
       "      <td>2.059153e+08</td>\n",
       "    </tr>\n",
       "  </tbody>\n",
       "</table>\n",
       "</div>"
      ],
      "text/plain": [
       "                       mean  size           std           sum\n",
       "Asia           5.797333e+08     5  6.074036e+08  2.898666e+09\n",
       "Australia      2.331602e+07     1  0.000000e+00  2.331602e+07\n",
       "Europe         7.632161e+07     6  3.162885e+07  4.579297e+08\n",
       "North America  1.764276e+08     2  1.411878e+08  3.528552e+08\n",
       "South America  2.059153e+08     1  0.000000e+00  2.059153e+08"
      ]
     },
     "execution_count": 38,
     "metadata": {},
     "output_type": "execute_result"
    }
   ],
   "source": [
    "\n",
    "#result1 = result.copy()\n",
    "#result2 = result.copy()\n",
    "#result.groupby('Continent')['PopEst'].agg({'size': np.size,'sum': np.sum})\n",
    "\n",
    "#result.set_index(['Asia', 'Australia', 'Europe', 'North America', 'South America'])\n",
    "#result.groupby('Continent')['PopEst'].apply(lambda x: np.size(x))\n",
    "#result = result.groupby('Continent')['PopEst'].agg({'size': np.size,'sum': np.sum,'mean': np.mean,'std': np.std})\n",
    "\n",
    "#pd.DataFrame(np.array([[1, 2, 3], [4, 5, 6], [7, 8, 9]]),columns=['a', 'b', 'c'])\n",
    "#result.head()\n",
    "#'size': np.size,'sum': np.sum,'mean': np.mean,'std': np.std\n",
    "#result.groupby('Continent')['PopEst'].apply(lambda a,b,c,d: np.size(a), np.sum(b), np.mean(c), np.std(d))"
   ]
  },
  {
   "cell_type": "code",
   "execution_count": null,
   "metadata": {
    "collapsed": true,
    "umich_part_id": "019",
    "umich_partlist_id": "003"
   },
   "outputs": [],
   "source": [
    "def answer_eleven():\n",
    "    df = answer_one()\n",
    "    ContinentDict  = {'China':'Asia',\n",
    "                      'United States':'North America', \n",
    "                      'Japan':'Asia',\n",
    "                      'United Kingdom':'Europe',\n",
    "                      'Russian Federation':'Europe',\n",
    "                      'Canada':'North America',\n",
    "                      'Germany':'Europe', \n",
    "                      'India':'Asia',\n",
    "                      'France':'Europe', \n",
    "                      'South Korea':'Asia', \n",
    "                      'Italy':'Europe', \n",
    "                      'Spain':'Europe', \n",
    "                      'Iran':'Asia',\n",
    "                      'Australia':'Australia', \n",
    "                      'Brazil':'South America'}\n",
    "    df = df.reset_index()\n",
    "    df['Continent'] = df['Country'].map(ContinentDict)\n",
    "    df['PopEst'] = df['Energy Supply'] / df['Energy Supply per Capita']\n",
    "    result = df.copy()\n",
    "    result = result[['Continent', 'PopEst']]\n",
    "    var1 = list(result.groupby('Continent')['PopEst'].apply(lambda x: np.size(x)))\n",
    "    var2 = list(result.groupby('Continent')['PopEst'].apply(lambda x: np.sum(x)))\n",
    "    var3 = list(result.groupby('Continent')['PopEst'].apply(lambda x: np.mean(x)))\n",
    "    var4 = list(result.groupby('Continent')['PopEst'].apply(lambda x: np.std(x)))\n",
    "    return pd.DataFrame({'size':var1, 'sum':var2, 'mean':var3, 'std':var4},index=['Asia', 'Australia', 'Europe', 'North America', 'South America'])\n"
   ]
  },
  {
   "cell_type": "code",
   "execution_count": 4,
   "metadata": {
    "collapsed": true
   },
   "outputs": [],
   "source": [
    "import pandas as pd\n",
    "import numpy as np"
   ]
  },
  {
   "cell_type": "markdown",
   "metadata": {},
   "source": [
    "### Question 12 (6.6%)\n",
    "Cut % Renewable into 5 bins. Group Top15 by the Continent, as well as these new % Renewable bins. How many countries are in each of these groups?\n",
    "\n",
    "*This function should return a __Series__ with a MultiIndex of `Continent`, then the bins for `% Renewable`. Do not include groups with no countries.*"
   ]
  },
  {
   "cell_type": "code",
   "execution_count": null,
   "metadata": {
    "collapsed": true,
    "scrolled": true
   },
   "outputs": [],
   "source": [
    "def answer_twelve():\n",
    "    import numpy as np\n",
    "    import pandas as pd\n",
    "    Top15 = answer_one()\n",
    "    ContinentDict  = {'China':'Asia',\n",
    "                      'United States':'North America', \n",
    "                      'Japan':'Asia',\n",
    "                      'United Kingdom':'Europe',\n",
    "                      'Russian Federation':'Europe',\n",
    "                      'Canada':'North America',\n",
    "                      'Germany':'Europe', \n",
    "                      'India':'Asia',\n",
    "                      'France':'Europe', \n",
    "                      'South Korea':'Asia', \n",
    "                      'Italy':'Europe', \n",
    "                      'Spain':'Europe', \n",
    "                      'Iran':'Asia',\n",
    "                      'Australia':'Australia', \n",
    "                      'Brazil':'South America'}\n",
    "    Top15 = Top15.reset_index()\n",
    "    Top15['Continent'] = Top15['Country'].map(ContinentDict)\n",
    "    Top15['% Renewable'] = pd.cut(Top15['% Renewable'], 5)\n",
    "    result = Top15.groupby(['Continent', '% Renewable'])['Country'].count()\n",
    "    result = result.reset_index()\n",
    "    #result.drop('Country', axis=1, inplace=True)\n",
    "    \n",
    "    result = result.set_index(['Continent', '% Renewable'])\n",
    "    return result['Country']"
   ]
  },
  {
   "cell_type": "markdown",
   "metadata": {},
   "source": [
    "### Question 13 (6.6%)\n",
    "Convert the Population Estimate series to a string with thousands separator (using commas). Do not round the results.\n",
    "\n",
    "e.g. 317615384.61538464 -> 317,615,384.61538464\n",
    "\n",
    "*This function should return a Series `PopEst` whose index is the country name and whose values are the population estimate string.*"
   ]
  },
  {
   "cell_type": "code",
   "execution_count": null,
   "metadata": {
    "collapsed": true,
    "scrolled": true,
    "umich_part_id": "020",
    "umich_partlist_id": "003"
   },
   "outputs": [],
   "source": [
    "def answer_thirteen():\n",
    "    import numpy as np\n",
    "    Top15 = answer_one()\n",
    "    Top15['PopEst'] = Top15['Energy Supply']/Top15['Energy Supply per Capita']\n",
    "    Top15['PopEst'] = Top15['PopEst'].apply('{:,}'.format)\n",
    "    return Top15['PopEst']"
   ]
  },
  {
   "cell_type": "markdown",
   "metadata": {},
   "source": [
    "### Optional\n",
    "\n",
    "Use the built in function `plot_optional()` to see an example visualization."
   ]
  },
  {
   "cell_type": "code",
   "execution_count": null,
   "metadata": {
    "collapsed": true,
    "scrolled": true
   },
   "outputs": [],
   "source": [
    "def plot_optional():\n",
    "    import matplotlib as plt\n",
    "    %matplotlib inline\n",
    "    Top15 = answer_one()\n",
    "    ax = Top15.plot(x='Rank', y='% Renewable', kind='scatter', \n",
    "                    c=['#e41a1c','#377eb8','#e41a1c','#4daf4a','#4daf4a','#377eb8','#4daf4a','#e41a1c',\n",
    "                       '#4daf4a','#e41a1c','#4daf4a','#4daf4a','#e41a1c','#dede00','#ff7f00'], \n",
    "                    xticks=range(1,16), s=6*Top15['2014']/10**10, alpha=.75, figsize=[16,6]);\n",
    "\n",
    "    for i, txt in enumerate(Top15.index):\n",
    "        ax.annotate(txt, [Top15['Rank'][i], Top15['% Renewable'][i]], ha='center')\n",
    "\n",
    "    print(\"This is an example of a visualization that can be created to help understand the data. \\\n",
    "This is a bubble chart showing % Renewable vs. Rank. The size of the bubble corresponds to the countries' \\\n",
    "2014 GDP, and the color corresponds to the continent.\")"
   ]
  },
  {
   "cell_type": "code",
   "execution_count": null,
   "metadata": {
    "collapsed": true
   },
   "outputs": [],
   "source": [
    "#plot_optional() # Be sure to comment out plot_optional() before submitting the assignment!"
   ]
  }
 ],
 "metadata": {
  "anaconda-cloud": {},
  "coursera": {
   "course_slug": "python-data-analysis",
   "graded_item_id": "zAr06",
   "launcher_item_id": "KSSjT",
   "part_id": "SL3fU"
  },
  "kernelspec": {
   "display_name": "Python 3",
   "language": "python",
   "name": "python3"
  },
  "language_info": {
   "codemirror_mode": {
    "name": "ipython",
    "version": 3
   },
   "file_extension": ".py",
   "mimetype": "text/x-python",
   "name": "python",
   "nbconvert_exporter": "python",
   "pygments_lexer": "ipython3",
   "version": "3.6.2"
  },
  "umich": {
   "id": "Assignment 3",
   "version": "1.5"
  }
 },
 "nbformat": 4,
 "nbformat_minor": 1
}
